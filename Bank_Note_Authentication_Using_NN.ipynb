{
 "cells": [
  {
   "cell_type": "code",
   "execution_count": 1,
   "id": "7c050518",
   "metadata": {},
   "outputs": [],
   "source": [
    "import numpy as np"
   ]
  },
  {
   "cell_type": "code",
   "execution_count": 1,
   "id": "de6802ed",
   "metadata": {},
   "outputs": [],
   "source": [
    "from numpy import genfromtxt"
   ]
  },
  {
   "cell_type": "code",
   "execution_count": 3,
   "id": "dffd3cd8",
   "metadata": {},
   "outputs": [
    {
     "data": {
      "text/plain": [
       "array([[  3.6216 ,   8.6661 ,  -2.8073 ,  -0.44699,   0.     ],\n",
       "       [  4.5459 ,   8.1674 ,  -2.4586 ,  -1.4621 ,   0.     ],\n",
       "       [  3.866  ,  -2.6383 ,   1.9242 ,   0.10645,   0.     ],\n",
       "       ...,\n",
       "       [ -3.7503 , -13.4586 ,  17.5932 ,  -2.7771 ,   1.     ],\n",
       "       [ -3.5637 ,  -8.3827 ,  12.393  ,  -1.2823 ,   1.     ],\n",
       "       [ -2.5419 ,  -0.65804,   2.6842 ,   1.1952 ,   1.     ]])"
      ]
     },
     "execution_count": 3,
     "metadata": {},
     "output_type": "execute_result"
    }
   ],
   "source": [
    "df = genfromtxt('data_banknote.txt' , delimiter=',')\n",
    "df"
   ]
  },
  {
   "cell_type": "code",
   "execution_count": 5,
   "id": "e22f82e2",
   "metadata": {},
   "outputs": [],
   "source": [
    "label=df[:,4]"
   ]
  },
  {
   "cell_type": "code",
   "execution_count": 6,
   "id": "4e510097",
   "metadata": {},
   "outputs": [
    {
     "data": {
      "text/plain": [
       "array([0., 0., 0., ..., 1., 1., 1.])"
      ]
     },
     "execution_count": 6,
     "metadata": {},
     "output_type": "execute_result"
    }
   ],
   "source": [
    "label"
   ]
  },
  {
   "cell_type": "code",
   "execution_count": 11,
   "id": "ef2b1000",
   "metadata": {},
   "outputs": [],
   "source": [
    "features=df[:,0:4]"
   ]
  },
  {
   "cell_type": "code",
   "execution_count": 12,
   "id": "0678c412",
   "metadata": {},
   "outputs": [
    {
     "data": {
      "text/plain": [
       "array([[  3.6216 ,   8.6661 ,  -2.8073 ,  -0.44699],\n",
       "       [  4.5459 ,   8.1674 ,  -2.4586 ,  -1.4621 ],\n",
       "       [  3.866  ,  -2.6383 ,   1.9242 ,   0.10645],\n",
       "       ...,\n",
       "       [ -3.7503 , -13.4586 ,  17.5932 ,  -2.7771 ],\n",
       "       [ -3.5637 ,  -8.3827 ,  12.393  ,  -1.2823 ],\n",
       "       [ -2.5419 ,  -0.65804,   2.6842 ,   1.1952 ]])"
      ]
     },
     "execution_count": 12,
     "metadata": {},
     "output_type": "execute_result"
    }
   ],
   "source": [
    "features"
   ]
  },
  {
   "cell_type": "code",
   "execution_count": 17,
   "id": "6380a732",
   "metadata": {},
   "outputs": [],
   "source": [
    "X=features\n",
    "y=label"
   ]
  },
  {
   "cell_type": "code",
   "execution_count": 18,
   "id": "32ca3e75",
   "metadata": {},
   "outputs": [],
   "source": [
    "from sklearn.model_selection import train_test_split"
   ]
  },
  {
   "cell_type": "code",
   "execution_count": 21,
   "id": "528d8120",
   "metadata": {},
   "outputs": [],
   "source": [
    "X_train,X_test,y_train,y_test=train_test_split(X , y, test_size=0.2, random_state=42)"
   ]
  },
  {
   "cell_type": "code",
   "execution_count": 22,
   "id": "59c005a7",
   "metadata": {},
   "outputs": [],
   "source": [
    "from sklearn.preprocessing import MinMaxScaler"
   ]
  },
  {
   "cell_type": "code",
   "execution_count": 23,
   "id": "954eecf9",
   "metadata": {},
   "outputs": [],
   "source": [
    "scaler_object=MinMaxScaler()"
   ]
  },
  {
   "cell_type": "code",
   "execution_count": 24,
   "id": "5efdc679",
   "metadata": {},
   "outputs": [
    {
     "data": {
      "text/plain": [
       "MinMaxScaler()"
      ]
     },
     "execution_count": 24,
     "metadata": {},
     "output_type": "execute_result"
    }
   ],
   "source": [
    "scaler_object.fit(X_train)"
   ]
  },
  {
   "cell_type": "code",
   "execution_count": 25,
   "id": "b044860b",
   "metadata": {},
   "outputs": [],
   "source": [
    "scaled_X_train=scaler_object.transform(X_train)"
   ]
  },
  {
   "cell_type": "code",
   "execution_count": 26,
   "id": "5aee29c4",
   "metadata": {},
   "outputs": [
    {
     "data": {
      "text/plain": [
       "array([[4.07704678e-01, 9.83199063e-01, 2.56697443e-01, 9.33178971e-02],\n",
       "       [7.07908761e-01, 7.71971248e-01, 1.80872580e-01, 8.05140280e-01],\n",
       "       [1.98559159e-01, 2.21136252e-01, 7.37428144e-01, 6.20911798e-01],\n",
       "       ...,\n",
       "       [4.11050776e-04, 8.63104170e-01, 2.34046756e-01, 3.74261253e-01],\n",
       "       [2.58284115e-01, 6.16029366e-01, 2.33861752e-01, 7.02643151e-01],\n",
       "       [2.65661395e-01, 2.44444278e-01, 7.20316361e-01, 7.44775785e-01]])"
      ]
     },
     "execution_count": 26,
     "metadata": {},
     "output_type": "execute_result"
    }
   ],
   "source": [
    "scaled_X_train"
   ]
  },
  {
   "cell_type": "code",
   "execution_count": 27,
   "id": "a0c5a270",
   "metadata": {},
   "outputs": [
    {
     "data": {
      "text/plain": [
       "array([[-1.3885  , 12.5026  ,  0.69118 , -7.5487  ],\n",
       "       [ 2.7744  ,  6.8576  , -1.0671  ,  0.075416],\n",
       "       [-4.2887  , -7.8633  , 11.8387  , -1.8978  ],\n",
       "       ...,\n",
       "       [-7.0364  ,  9.2931  ,  0.16594 , -4.5396  ],\n",
       "       [-3.4605  ,  2.6901  ,  0.16165 , -1.0224  ],\n",
       "       [-3.3582  , -7.2404  , 11.4419  , -0.57113 ]])"
      ]
     },
     "execution_count": 27,
     "metadata": {},
     "output_type": "execute_result"
    }
   ],
   "source": [
    "X_train"
   ]
  },
  {
   "cell_type": "code",
   "execution_count": 28,
   "id": "c0a0049e",
   "metadata": {},
   "outputs": [],
   "source": [
    "scaled_X_test=scaler_object.transform(X_test)"
   ]
  },
  {
   "cell_type": "code",
   "execution_count": 29,
   "id": "d062f4bf",
   "metadata": {},
   "outputs": [
    {
     "data": {
      "text/plain": [
       "0.0"
      ]
     },
     "execution_count": 29,
     "metadata": {},
     "output_type": "execute_result"
    }
   ],
   "source": [
    "scaled_X_train.min()"
   ]
  },
  {
   "cell_type": "code",
   "execution_count": 31,
   "id": "1d4551ff",
   "metadata": {},
   "outputs": [
    {
     "name": "stdout",
     "output_type": "stream",
     "text": [
      "Requirement already satisfied: keras in c:\\users\\hinaa\\anaconda3\\lib\\site-packages (3.3.3)\n",
      "Requirement already satisfied: absl-py in c:\\users\\hinaa\\anaconda3\\lib\\site-packages (from keras) (2.1.0)\n",
      "Requirement already satisfied: numpy in c:\\users\\hinaa\\anaconda3\\lib\\site-packages (from keras) (1.24.4)\n",
      "Requirement already satisfied: rich in c:\\users\\hinaa\\anaconda3\\lib\\site-packages (from keras) (13.7.1)\n",
      "Requirement already satisfied: namex in c:\\users\\hinaa\\anaconda3\\lib\\site-packages (from keras) (0.0.8)\n",
      "Requirement already satisfied: h5py in c:\\users\\hinaa\\anaconda3\\lib\\site-packages (from keras) (3.11.0)\n",
      "Requirement already satisfied: optree in c:\\users\\hinaa\\anaconda3\\lib\\site-packages (from keras) (0.11.0)\n",
      "Requirement already satisfied: ml-dtypes in c:\\users\\hinaa\\anaconda3\\lib\\site-packages (from keras) (0.3.2)\n",
      "Requirement already satisfied: typing-extensions>=4.0.0 in c:\\users\\hinaa\\anaconda3\\lib\\site-packages (from optree->keras) (4.10.0)\n",
      "Requirement already satisfied: markdown-it-py>=2.2.0 in c:\\users\\hinaa\\anaconda3\\lib\\site-packages (from rich->keras) (3.0.0)\n",
      "Requirement already satisfied: pygments<3.0.0,>=2.13.0 in c:\\users\\hinaa\\anaconda3\\lib\\site-packages (from rich->keras) (2.18.0)\n",
      "Requirement already satisfied: mdurl~=0.1 in c:\\users\\hinaa\\anaconda3\\lib\\site-packages (from markdown-it-py>=2.2.0->rich->keras) (0.1.2)\n"
     ]
    }
   ],
   "source": [
    "!pip install keras"
   ]
  },
  {
   "cell_type": "code",
   "execution_count": 34,
   "id": "c3d65ba9",
   "metadata": {},
   "outputs": [],
   "source": [
    "from keras.models import Sequential\n",
    "from keras.layers import Dense "
   ]
  },
  {
   "cell_type": "code",
   "execution_count": 35,
   "id": "0a57f215",
   "metadata": {},
   "outputs": [],
   "source": [
    "models=Sequential()"
   ]
  },
  {
   "cell_type": "code",
   "execution_count": 37,
   "id": "b3ea59db",
   "metadata": {},
   "outputs": [
    {
     "name": "stderr",
     "output_type": "stream",
     "text": [
      "C:\\Users\\hinaa\\Anaconda3\\lib\\site-packages\\keras\\src\\layers\\core\\dense.py:87: UserWarning: Do not pass an `input_shape`/`input_dim` argument to a layer. When using Sequential models, prefer using an `Input(shape)` object as the first layer in the model instead.\n",
      "  super().__init__(activity_regularizer=activity_regularizer, **kwargs)\n"
     ]
    }
   ],
   "source": [
    "#first hidden layer\n",
    "models.add(Dense(4 , input_dim=4 , activation='relu'))\n",
    "\n",
    "\n",
    "#second hidden layer\n",
    "models.add(Dense(8 , activation='relu'))\n",
    "\n",
    "\n",
    "#output layer\n",
    "\n",
    "models.add(Dense(1 , activation='sigmoid'))"
   ]
  },
  {
   "cell_type": "code",
   "execution_count": 38,
   "id": "64698d3e",
   "metadata": {},
   "outputs": [],
   "source": [
    "models.compile(loss=\"binary_crossentropy\", optimizer='adam', metrics=['accuracy'])"
   ]
  },
  {
   "cell_type": "code",
   "execution_count": 68,
   "id": "51fa983f",
   "metadata": {},
   "outputs": [
    {
     "name": "stdout",
     "output_type": "stream",
     "text": [
      "Epoch 1/55\n",
      "\u001b[1m35/35\u001b[0m \u001b[32m━━━━━━━━━━━━━━━━━━━━\u001b[0m\u001b[37m\u001b[0m \u001b[1m0s\u001b[0m 2ms/step - accuracy: 0.9797 - loss: 0.0601\n",
      "Epoch 2/55\n",
      "\u001b[1m35/35\u001b[0m \u001b[32m━━━━━━━━━━━━━━━━━━━━\u001b[0m\u001b[37m\u001b[0m \u001b[1m0s\u001b[0m 2ms/step - accuracy: 0.9787 - loss: 0.0602\n",
      "Epoch 3/55\n",
      "\u001b[1m35/35\u001b[0m \u001b[32m━━━━━━━━━━━━━━━━━━━━\u001b[0m\u001b[37m\u001b[0m \u001b[1m0s\u001b[0m 2ms/step - accuracy: 0.9815 - loss: 0.0524\n",
      "Epoch 4/55\n",
      "\u001b[1m35/35\u001b[0m \u001b[32m━━━━━━━━━━━━━━━━━━━━\u001b[0m\u001b[37m\u001b[0m \u001b[1m0s\u001b[0m 2ms/step - accuracy: 0.9792 - loss: 0.0557\n",
      "Epoch 5/55\n",
      "\u001b[1m35/35\u001b[0m \u001b[32m━━━━━━━━━━━━━━━━━━━━\u001b[0m\u001b[37m\u001b[0m \u001b[1m0s\u001b[0m 3ms/step - accuracy: 0.9818 - loss: 0.0559\n",
      "Epoch 6/55\n",
      "\u001b[1m35/35\u001b[0m \u001b[32m━━━━━━━━━━━━━━━━━━━━\u001b[0m\u001b[37m\u001b[0m \u001b[1m0s\u001b[0m 3ms/step - accuracy: 0.9789 - loss: 0.0599\n",
      "Epoch 7/55\n",
      "\u001b[1m35/35\u001b[0m \u001b[32m━━━━━━━━━━━━━━━━━━━━\u001b[0m\u001b[37m\u001b[0m \u001b[1m0s\u001b[0m 2ms/step - accuracy: 0.9846 - loss: 0.0534\n",
      "Epoch 8/55\n",
      "\u001b[1m35/35\u001b[0m \u001b[32m━━━━━━━━━━━━━━━━━━━━\u001b[0m\u001b[37m\u001b[0m \u001b[1m0s\u001b[0m 3ms/step - accuracy: 0.9745 - loss: 0.0591\n",
      "Epoch 9/55\n",
      "\u001b[1m35/35\u001b[0m \u001b[32m━━━━━━━━━━━━━━━━━━━━\u001b[0m\u001b[37m\u001b[0m \u001b[1m0s\u001b[0m 3ms/step - accuracy: 0.9854 - loss: 0.0491\n",
      "Epoch 10/55\n",
      "\u001b[1m35/35\u001b[0m \u001b[32m━━━━━━━━━━━━━━━━━━━━\u001b[0m\u001b[37m\u001b[0m \u001b[1m0s\u001b[0m 2ms/step - accuracy: 0.9770 - loss: 0.0593\n",
      "Epoch 11/55\n",
      "\u001b[1m35/35\u001b[0m \u001b[32m━━━━━━━━━━━━━━━━━━━━\u001b[0m\u001b[37m\u001b[0m \u001b[1m0s\u001b[0m 2ms/step - accuracy: 0.9816 - loss: 0.0503\n",
      "Epoch 12/55\n",
      "\u001b[1m35/35\u001b[0m \u001b[32m━━━━━━━━━━━━━━━━━━━━\u001b[0m\u001b[37m\u001b[0m \u001b[1m0s\u001b[0m 3ms/step - accuracy: 0.9821 - loss: 0.0553\n",
      "Epoch 13/55\n",
      "\u001b[1m35/35\u001b[0m \u001b[32m━━━━━━━━━━━━━━━━━━━━\u001b[0m\u001b[37m\u001b[0m \u001b[1m0s\u001b[0m 2ms/step - accuracy: 0.9834 - loss: 0.0507\n",
      "Epoch 14/55\n",
      "\u001b[1m35/35\u001b[0m \u001b[32m━━━━━━━━━━━━━━━━━━━━\u001b[0m\u001b[37m\u001b[0m \u001b[1m0s\u001b[0m 2ms/step - accuracy: 0.9812 - loss: 0.0526\n",
      "Epoch 15/55\n",
      "\u001b[1m35/35\u001b[0m \u001b[32m━━━━━━━━━━━━━━━━━━━━\u001b[0m\u001b[37m\u001b[0m \u001b[1m0s\u001b[0m 3ms/step - accuracy: 0.9841 - loss: 0.0486\n",
      "Epoch 16/55\n",
      "\u001b[1m35/35\u001b[0m \u001b[32m━━━━━━━━━━━━━━━━━━━━\u001b[0m\u001b[37m\u001b[0m \u001b[1m0s\u001b[0m 3ms/step - accuracy: 0.9828 - loss: 0.0471\n",
      "Epoch 17/55\n",
      "\u001b[1m35/35\u001b[0m \u001b[32m━━━━━━━━━━━━━━━━━━━━\u001b[0m\u001b[37m\u001b[0m \u001b[1m0s\u001b[0m 3ms/step - accuracy: 0.9795 - loss: 0.0518\n",
      "Epoch 18/55\n",
      "\u001b[1m35/35\u001b[0m \u001b[32m━━━━━━━━━━━━━━━━━━━━\u001b[0m\u001b[37m\u001b[0m \u001b[1m0s\u001b[0m 2ms/step - accuracy: 0.9818 - loss: 0.0518\n",
      "Epoch 19/55\n",
      "\u001b[1m35/35\u001b[0m \u001b[32m━━━━━━━━━━━━━━━━━━━━\u001b[0m\u001b[37m\u001b[0m \u001b[1m0s\u001b[0m 2ms/step - accuracy: 0.9789 - loss: 0.0546\n",
      "Epoch 20/55\n",
      "\u001b[1m35/35\u001b[0m \u001b[32m━━━━━━━━━━━━━━━━━━━━\u001b[0m\u001b[37m\u001b[0m \u001b[1m0s\u001b[0m 2ms/step - accuracy: 0.9842 - loss: 0.0509\n",
      "Epoch 21/55\n",
      "\u001b[1m35/35\u001b[0m \u001b[32m━━━━━━━━━━━━━━━━━━━━\u001b[0m\u001b[37m\u001b[0m \u001b[1m0s\u001b[0m 2ms/step - accuracy: 0.9891 - loss: 0.0418\n",
      "Epoch 22/55\n",
      "\u001b[1m35/35\u001b[0m \u001b[32m━━━━━━━━━━━━━━━━━━━━\u001b[0m\u001b[37m\u001b[0m \u001b[1m0s\u001b[0m 2ms/step - accuracy: 0.9886 - loss: 0.0453\n",
      "Epoch 23/55\n",
      "\u001b[1m35/35\u001b[0m \u001b[32m━━━━━━━━━━━━━━━━━━━━\u001b[0m\u001b[37m\u001b[0m \u001b[1m0s\u001b[0m 2ms/step - accuracy: 0.9854 - loss: 0.0490\n",
      "Epoch 24/55\n",
      "\u001b[1m35/35\u001b[0m \u001b[32m━━━━━━━━━━━━━━━━━━━━\u001b[0m\u001b[37m\u001b[0m \u001b[1m0s\u001b[0m 2ms/step - accuracy: 0.9869 - loss: 0.0431\n",
      "Epoch 25/55\n",
      "\u001b[1m35/35\u001b[0m \u001b[32m━━━━━━━━━━━━━━━━━━━━\u001b[0m\u001b[37m\u001b[0m \u001b[1m0s\u001b[0m 2ms/step - accuracy: 0.9899 - loss: 0.0355\n",
      "Epoch 26/55\n",
      "\u001b[1m35/35\u001b[0m \u001b[32m━━━━━━━━━━━━━━━━━━━━\u001b[0m\u001b[37m\u001b[0m \u001b[1m0s\u001b[0m 2ms/step - accuracy: 0.9890 - loss: 0.0422\n",
      "Epoch 27/55\n",
      "\u001b[1m35/35\u001b[0m \u001b[32m━━━━━━━━━━━━━━━━━━━━\u001b[0m\u001b[37m\u001b[0m \u001b[1m0s\u001b[0m 2ms/step - accuracy: 0.9834 - loss: 0.0441\n",
      "Epoch 28/55\n",
      "\u001b[1m35/35\u001b[0m \u001b[32m━━━━━━━━━━━━━━━━━━━━\u001b[0m\u001b[37m\u001b[0m \u001b[1m0s\u001b[0m 2ms/step - accuracy: 0.9858 - loss: 0.0392\n",
      "Epoch 29/55\n",
      "\u001b[1m35/35\u001b[0m \u001b[32m━━━━━━━━━━━━━━━━━━━━\u001b[0m\u001b[37m\u001b[0m \u001b[1m0s\u001b[0m 2ms/step - accuracy: 0.9887 - loss: 0.0446\n",
      "Epoch 30/55\n",
      "\u001b[1m35/35\u001b[0m \u001b[32m━━━━━━━━━━━━━━━━━━━━\u001b[0m\u001b[37m\u001b[0m \u001b[1m0s\u001b[0m 2ms/step - accuracy: 0.9825 - loss: 0.0412\n",
      "Epoch 31/55\n",
      "\u001b[1m35/35\u001b[0m \u001b[32m━━━━━━━━━━━━━━━━━━━━\u001b[0m\u001b[37m\u001b[0m \u001b[1m0s\u001b[0m 2ms/step - accuracy: 0.9872 - loss: 0.0421\n",
      "Epoch 32/55\n",
      "\u001b[1m35/35\u001b[0m \u001b[32m━━━━━━━━━━━━━━━━━━━━\u001b[0m\u001b[37m\u001b[0m \u001b[1m0s\u001b[0m 2ms/step - accuracy: 0.9893 - loss: 0.0415\n",
      "Epoch 33/55\n",
      "\u001b[1m35/35\u001b[0m \u001b[32m━━━━━━━━━━━━━━━━━━━━\u001b[0m\u001b[37m\u001b[0m \u001b[1m0s\u001b[0m 2ms/step - accuracy: 0.9870 - loss: 0.0340\n",
      "Epoch 34/55\n",
      "\u001b[1m35/35\u001b[0m \u001b[32m━━━━━━━━━━━━━━━━━━━━\u001b[0m\u001b[37m\u001b[0m \u001b[1m0s\u001b[0m 2ms/step - accuracy: 0.9836 - loss: 0.0409\n",
      "Epoch 35/55\n",
      "\u001b[1m35/35\u001b[0m \u001b[32m━━━━━━━━━━━━━━━━━━━━\u001b[0m\u001b[37m\u001b[0m \u001b[1m0s\u001b[0m 2ms/step - accuracy: 0.9912 - loss: 0.0351\n",
      "Epoch 36/55\n",
      "\u001b[1m35/35\u001b[0m \u001b[32m━━━━━━━━━━━━━━━━━━━━\u001b[0m\u001b[37m\u001b[0m \u001b[1m0s\u001b[0m 2ms/step - accuracy: 0.9882 - loss: 0.0402\n",
      "Epoch 37/55\n",
      "\u001b[1m35/35\u001b[0m \u001b[32m━━━━━━━━━━━━━━━━━━━━\u001b[0m\u001b[37m\u001b[0m \u001b[1m0s\u001b[0m 2ms/step - accuracy: 0.9835 - loss: 0.0408\n",
      "Epoch 38/55\n",
      "\u001b[1m35/35\u001b[0m \u001b[32m━━━━━━━━━━━━━━━━━━━━\u001b[0m\u001b[37m\u001b[0m \u001b[1m0s\u001b[0m 2ms/step - accuracy: 0.9873 - loss: 0.0377\n",
      "Epoch 39/55\n",
      "\u001b[1m35/35\u001b[0m \u001b[32m━━━━━━━━━━━━━━━━━━━━\u001b[0m\u001b[37m\u001b[0m \u001b[1m0s\u001b[0m 2ms/step - accuracy: 0.9895 - loss: 0.0329\n",
      "Epoch 40/55\n",
      "\u001b[1m35/35\u001b[0m \u001b[32m━━━━━━━━━━━━━━━━━━━━\u001b[0m\u001b[37m\u001b[0m \u001b[1m0s\u001b[0m 2ms/step - accuracy: 0.9894 - loss: 0.0373\n",
      "Epoch 41/55\n",
      "\u001b[1m35/35\u001b[0m \u001b[32m━━━━━━━━━━━━━━━━━━━━\u001b[0m\u001b[37m\u001b[0m \u001b[1m0s\u001b[0m 2ms/step - accuracy: 0.9820 - loss: 0.0376\n",
      "Epoch 42/55\n",
      "\u001b[1m35/35\u001b[0m \u001b[32m━━━━━━━━━━━━━━━━━━━━\u001b[0m\u001b[37m\u001b[0m \u001b[1m0s\u001b[0m 2ms/step - accuracy: 0.9857 - loss: 0.0380\n",
      "Epoch 43/55\n",
      "\u001b[1m35/35\u001b[0m \u001b[32m━━━━━━━━━━━━━━━━━━━━\u001b[0m\u001b[37m\u001b[0m \u001b[1m0s\u001b[0m 2ms/step - accuracy: 0.9884 - loss: 0.0335\n",
      "Epoch 44/55\n",
      "\u001b[1m35/35\u001b[0m \u001b[32m━━━━━━━━━━━━━━━━━━━━\u001b[0m\u001b[37m\u001b[0m \u001b[1m0s\u001b[0m 2ms/step - accuracy: 0.9926 - loss: 0.0354\n",
      "Epoch 45/55\n",
      "\u001b[1m35/35\u001b[0m \u001b[32m━━━━━━━━━━━━━━━━━━━━\u001b[0m\u001b[37m\u001b[0m \u001b[1m0s\u001b[0m 2ms/step - accuracy: 0.9880 - loss: 0.0406\n",
      "Epoch 46/55\n",
      "\u001b[1m35/35\u001b[0m \u001b[32m━━━━━━━━━━━━━━━━━━━━\u001b[0m\u001b[37m\u001b[0m \u001b[1m0s\u001b[0m 2ms/step - accuracy: 0.9891 - loss: 0.0348\n",
      "Epoch 47/55\n",
      "\u001b[1m35/35\u001b[0m \u001b[32m━━━━━━━━━━━━━━━━━━━━\u001b[0m\u001b[37m\u001b[0m \u001b[1m0s\u001b[0m 2ms/step - accuracy: 0.9856 - loss: 0.0341\n",
      "Epoch 48/55\n",
      "\u001b[1m35/35\u001b[0m \u001b[32m━━━━━━━━━━━━━━━━━━━━\u001b[0m\u001b[37m\u001b[0m \u001b[1m0s\u001b[0m 2ms/step - accuracy: 0.9865 - loss: 0.0352\n",
      "Epoch 49/55\n",
      "\u001b[1m35/35\u001b[0m \u001b[32m━━━━━━━━━━━━━━━━━━━━\u001b[0m\u001b[37m\u001b[0m \u001b[1m0s\u001b[0m 2ms/step - accuracy: 0.9815 - loss: 0.0381\n",
      "Epoch 50/55\n",
      "\u001b[1m35/35\u001b[0m \u001b[32m━━━━━━━━━━━━━━━━━━━━\u001b[0m\u001b[37m\u001b[0m \u001b[1m0s\u001b[0m 2ms/step - accuracy: 0.9914 - loss: 0.0343\n",
      "Epoch 51/55\n",
      "\u001b[1m35/35\u001b[0m \u001b[32m━━━━━━━━━━━━━━━━━━━━\u001b[0m\u001b[37m\u001b[0m \u001b[1m0s\u001b[0m 2ms/step - accuracy: 0.9803 - loss: 0.0408\n",
      "Epoch 52/55\n",
      "\u001b[1m35/35\u001b[0m \u001b[32m━━━━━━━━━━━━━━━━━━━━\u001b[0m\u001b[37m\u001b[0m \u001b[1m0s\u001b[0m 2ms/step - accuracy: 0.9856 - loss: 0.0378\n",
      "Epoch 53/55\n",
      "\u001b[1m35/35\u001b[0m \u001b[32m━━━━━━━━━━━━━━━━━━━━\u001b[0m\u001b[37m\u001b[0m \u001b[1m0s\u001b[0m 2ms/step - accuracy: 0.9877 - loss: 0.0334\n",
      "Epoch 54/55\n",
      "\u001b[1m35/35\u001b[0m \u001b[32m━━━━━━━━━━━━━━━━━━━━\u001b[0m\u001b[37m\u001b[0m \u001b[1m0s\u001b[0m 2ms/step - accuracy: 0.9881 - loss: 0.0362\n",
      "Epoch 55/55\n",
      "\u001b[1m35/35\u001b[0m \u001b[32m━━━━━━━━━━━━━━━━━━━━\u001b[0m\u001b[37m\u001b[0m \u001b[1m0s\u001b[0m 2ms/step - accuracy: 0.9877 - loss: 0.0336\n"
     ]
    },
    {
     "data": {
      "text/plain": [
       "<keras.src.callbacks.history.History at 0x1eb47093d30>"
      ]
     },
     "execution_count": 68,
     "metadata": {},
     "output_type": "execute_result"
    }
   ],
   "source": [
    "models.fit(scaled_X_train, y_train, epochs=55, verbose=1)"
   ]
  },
  {
   "cell_type": "code",
   "execution_count": 70,
   "id": "f67c098b",
   "metadata": {},
   "outputs": [
    {
     "data": {
      "text/plain": [
       "array([[0.62098955, 0.75284662, 0.21900753, 0.5730998 ],\n",
       "       [0.48778602, 0.82175665, 0.09174727, 0.56211079],\n",
       "       [0.51158363, 0.77924916, 0.13830875, 0.50392598],\n",
       "       ...,\n",
       "       [0.75753773, 0.34889447, 0.37966768, 0.81250432],\n",
       "       [0.48778747, 0.82175665, 0.09174727, 0.56211079],\n",
       "       [0.70853615, 0.92621058, 0.07349701, 0.38693083]])"
      ]
     },
     "execution_count": 70,
     "metadata": {},
     "output_type": "execute_result"
    }
   ],
   "source": [
    "scaled_X_test"
   ]
  },
  {
   "cell_type": "code",
   "execution_count": 71,
   "id": "64bebacd",
   "metadata": {},
   "outputs": [
    {
     "name": "stdout",
     "output_type": "stream",
     "text": [
      "\u001b[1m9/9\u001b[0m \u001b[32m━━━━━━━━━━━━━━━━━━━━\u001b[0m\u001b[37m\u001b[0m \u001b[1m0s\u001b[0m 2ms/step \n"
     ]
    }
   ],
   "source": [
    "prediction=models.predict(scaled_X_test)"
   ]
  },
  {
   "cell_type": "code",
   "execution_count": 72,
   "id": "41d4bdd9",
   "metadata": {},
   "outputs": [
    {
     "data": {
      "text/plain": [
       "array([[8.09206278e-04],\n",
       "       [3.47535014e-01],\n",
       "       [1.01819895e-01],\n",
       "       [5.01363247e-04],\n",
       "       [7.58039881e-04],\n",
       "       [5.99277089e-04],\n",
       "       [1.73533603e-03],\n",
       "       [3.22058069e-04],\n",
       "       [5.97341626e-04],\n",
       "       [4.87579848e-04],\n",
       "       [9.09422636e-01],\n",
       "       [9.97773945e-01],\n",
       "       [7.60970521e-04],\n",
       "       [9.69065726e-01],\n",
       "       [7.20506255e-03],\n",
       "       [7.45971680e-01],\n",
       "       [9.93152738e-01],\n",
       "       [9.94779944e-01],\n",
       "       [7.85165429e-01],\n",
       "       [9.28782046e-01],\n",
       "       [5.78511739e-04],\n",
       "       [3.62651306e-04],\n",
       "       [9.64839339e-01],\n",
       "       [3.45789769e-04],\n",
       "       [9.99927759e-01],\n",
       "       [4.00230463e-04],\n",
       "       [2.41017391e-04],\n",
       "       [9.85731483e-01],\n",
       "       [2.61797133e-04],\n",
       "       [1.65713616e-04],\n",
       "       [9.95760620e-01],\n",
       "       [8.93469842e-04],\n",
       "       [3.94576462e-03],\n",
       "       [9.99802649e-01],\n",
       "       [9.99683559e-01],\n",
       "       [3.04494548e-04],\n",
       "       [8.75992060e-01],\n",
       "       [9.93797183e-01],\n",
       "       [9.98441041e-01],\n",
       "       [5.37966669e-04],\n",
       "       [3.57635261e-04],\n",
       "       [9.93704021e-01],\n",
       "       [9.92024839e-01],\n",
       "       [6.85500854e-04],\n",
       "       [9.99861002e-01],\n",
       "       [9.67552662e-01],\n",
       "       [9.99232769e-01],\n",
       "       [1.83355564e-03],\n",
       "       [2.67597474e-03],\n",
       "       [8.39416265e-01],\n",
       "       [2.47703982e-03],\n",
       "       [2.24230083e-04],\n",
       "       [8.97484773e-04],\n",
       "       [3.25654953e-04],\n",
       "       [1.06106903e-02],\n",
       "       [9.86052573e-01],\n",
       "       [7.03570014e-03],\n",
       "       [2.09440477e-04],\n",
       "       [1.09159551e-03],\n",
       "       [4.16583614e-04],\n",
       "       [9.98022258e-01],\n",
       "       [4.52858570e-04],\n",
       "       [8.89222741e-01],\n",
       "       [2.18034067e-04],\n",
       "       [7.05151935e-04],\n",
       "       [2.73512967e-04],\n",
       "       [3.28368566e-04],\n",
       "       [7.84103875e-04],\n",
       "       [4.44088653e-02],\n",
       "       [8.94186616e-01],\n",
       "       [8.78645957e-01],\n",
       "       [7.55025714e-04],\n",
       "       [9.21539307e-01],\n",
       "       [1.63989738e-04],\n",
       "       [9.79868770e-01],\n",
       "       [6.19044840e-01],\n",
       "       [1.31567183e-03],\n",
       "       [9.98105466e-01],\n",
       "       [9.97368991e-01],\n",
       "       [9.60540414e-01],\n",
       "       [9.54822838e-01],\n",
       "       [1.16438709e-01],\n",
       "       [9.53836620e-01],\n",
       "       [6.84340193e-04],\n",
       "       [2.53241286e-02],\n",
       "       [3.50802264e-04],\n",
       "       [3.23442073e-04],\n",
       "       [9.99783218e-01],\n",
       "       [6.72992945e-01],\n",
       "       [5.07701421e-04],\n",
       "       [3.59083759e-04],\n",
       "       [3.28731869e-04],\n",
       "       [9.53937888e-01],\n",
       "       [9.95136678e-01],\n",
       "       [5.47330244e-04],\n",
       "       [9.62706327e-01],\n",
       "       [9.99904692e-01],\n",
       "       [1.93196833e-02],\n",
       "       [6.36425335e-04],\n",
       "       [1.44025870e-02],\n",
       "       [9.71528232e-01],\n",
       "       [5.11859369e-04],\n",
       "       [2.55068950e-03],\n",
       "       [9.80125973e-04],\n",
       "       [9.99887347e-01],\n",
       "       [2.40307447e-04],\n",
       "       [6.87576481e-04],\n",
       "       [9.29067254e-01],\n",
       "       [9.38145220e-01],\n",
       "       [7.57628977e-01],\n",
       "       [9.98017013e-01],\n",
       "       [9.71891820e-01],\n",
       "       [3.32786352e-04],\n",
       "       [9.99370039e-01],\n",
       "       [9.92405474e-01],\n",
       "       [9.99799073e-01],\n",
       "       [1.82509801e-04],\n",
       "       [9.99340773e-01],\n",
       "       [9.92956221e-01],\n",
       "       [3.75505217e-04],\n",
       "       [8.10489118e-01],\n",
       "       [1.28383376e-03],\n",
       "       [9.32185769e-01],\n",
       "       [2.60015571e-04],\n",
       "       [5.62510133e-01],\n",
       "       [1.00048003e-03],\n",
       "       [9.99409974e-01],\n",
       "       [9.78074431e-01],\n",
       "       [1.16355647e-03],\n",
       "       [9.98380125e-01],\n",
       "       [9.99600828e-01],\n",
       "       [6.37267251e-04],\n",
       "       [9.75713832e-04],\n",
       "       [1.08888058e-03],\n",
       "       [5.31156955e-04],\n",
       "       [2.54452904e-03],\n",
       "       [9.96762156e-01],\n",
       "       [4.57882968e-04],\n",
       "       [3.05279135e-03],\n",
       "       [8.41746449e-01],\n",
       "       [7.47468963e-04],\n",
       "       [3.10885930e-03],\n",
       "       [9.92411375e-01],\n",
       "       [6.86452491e-03],\n",
       "       [9.68134820e-01],\n",
       "       [3.89142990e-01],\n",
       "       [7.76341200e-01],\n",
       "       [9.58231688e-01],\n",
       "       [9.85469043e-01],\n",
       "       [4.35551221e-04],\n",
       "       [9.08864498e-01],\n",
       "       [9.93407309e-01],\n",
       "       [9.87069786e-01],\n",
       "       [3.16610734e-04],\n",
       "       [9.77716863e-01],\n",
       "       [2.17940731e-04],\n",
       "       [9.91011679e-01],\n",
       "       [9.39293939e-04],\n",
       "       [7.33558962e-04],\n",
       "       [5.25089097e-04],\n",
       "       [9.99938548e-01],\n",
       "       [9.99561846e-01],\n",
       "       [9.99825358e-01],\n",
       "       [9.97913539e-01],\n",
       "       [9.87562954e-01],\n",
       "       [2.52155005e-04],\n",
       "       [9.99419630e-01],\n",
       "       [4.11272922e-04],\n",
       "       [2.09277598e-04],\n",
       "       [8.50146636e-04],\n",
       "       [6.44975156e-02],\n",
       "       [2.70347955e-04],\n",
       "       [1.19002094e-03],\n",
       "       [9.99483287e-01],\n",
       "       [5.45350427e-04],\n",
       "       [5.51630103e-04],\n",
       "       [9.98831332e-01],\n",
       "       [9.99965668e-01],\n",
       "       [5.47576742e-03],\n",
       "       [2.47911288e-04],\n",
       "       [3.82962748e-02],\n",
       "       [7.08922220e-04],\n",
       "       [9.99661028e-01],\n",
       "       [4.97937959e-04],\n",
       "       [9.97457802e-01],\n",
       "       [2.98000756e-04],\n",
       "       [9.82271492e-01],\n",
       "       [9.98239636e-01],\n",
       "       [4.48618492e-04],\n",
       "       [4.10053064e-04],\n",
       "       [9.95781779e-01],\n",
       "       [3.83309147e-04],\n",
       "       [4.33821743e-03],\n",
       "       [9.99556303e-01],\n",
       "       [9.98112917e-01],\n",
       "       [9.94127631e-01],\n",
       "       [9.86508369e-01],\n",
       "       [2.80417339e-03],\n",
       "       [1.07909534e-02],\n",
       "       [9.98570919e-01],\n",
       "       [9.94705498e-01],\n",
       "       [9.98962879e-01],\n",
       "       [9.74495895e-04],\n",
       "       [8.38299573e-04],\n",
       "       [9.99356389e-01],\n",
       "       [9.99341905e-01],\n",
       "       [9.98293221e-01],\n",
       "       [9.84515011e-01],\n",
       "       [3.56821925e-03],\n",
       "       [4.88038757e-04],\n",
       "       [5.22173524e-01],\n",
       "       [3.73200455e-04],\n",
       "       [9.21153696e-04],\n",
       "       [1.92608945e-02],\n",
       "       [1.36374540e-04],\n",
       "       [4.39498835e-04],\n",
       "       [6.19044840e-01],\n",
       "       [1.21636421e-03],\n",
       "       [9.99686182e-01],\n",
       "       [9.63285506e-01],\n",
       "       [9.91739333e-01],\n",
       "       [9.97097135e-01],\n",
       "       [9.98453557e-01],\n",
       "       [1.11859257e-03],\n",
       "       [9.88921046e-01],\n",
       "       [4.06115025e-04],\n",
       "       [2.83644447e-04],\n",
       "       [9.67072010e-01],\n",
       "       [8.75675857e-01],\n",
       "       [9.94844377e-01],\n",
       "       [9.96921301e-01],\n",
       "       [3.88136803e-04],\n",
       "       [9.34216499e-01],\n",
       "       [5.39277797e-04],\n",
       "       [8.56720269e-01],\n",
       "       [9.97678578e-01],\n",
       "       [9.88376141e-01],\n",
       "       [9.99412417e-01],\n",
       "       [7.23583915e-04],\n",
       "       [8.77753308e-04],\n",
       "       [2.40354147e-02],\n",
       "       [9.90572631e-01],\n",
       "       [1.17971434e-03],\n",
       "       [9.99317467e-01],\n",
       "       [9.86550331e-01],\n",
       "       [9.99749184e-01],\n",
       "       [7.56935508e-04],\n",
       "       [5.43657457e-04],\n",
       "       [1.99473143e-04],\n",
       "       [2.05295393e-03],\n",
       "       [1.35281152e-04],\n",
       "       [7.71681080e-04],\n",
       "       [9.98949349e-01],\n",
       "       [9.79717225e-02],\n",
       "       [2.69613475e-01],\n",
       "       [1.06971664e-03],\n",
       "       [5.24560339e-04],\n",
       "       [4.07429179e-04],\n",
       "       [9.96840715e-01],\n",
       "       [9.96012747e-01],\n",
       "       [7.45195895e-03],\n",
       "       [1.56774521e-02],\n",
       "       [3.90496833e-04],\n",
       "       [9.96591866e-01],\n",
       "       [9.74193573e-01],\n",
       "       [5.44146576e-04],\n",
       "       [9.96985555e-01],\n",
       "       [6.41715713e-04],\n",
       "       [9.99838233e-01],\n",
       "       [9.76510167e-01],\n",
       "       [9.94402230e-01],\n",
       "       [9.45366859e-01],\n",
       "       [4.55628894e-03],\n",
       "       [3.47524583e-01],\n",
       "       [4.56268084e-04]], dtype=float32)"
      ]
     },
     "execution_count": 72,
     "metadata": {},
     "output_type": "execute_result"
    }
   ],
   "source": [
    "prediction"
   ]
  },
  {
   "cell_type": "code",
   "execution_count": 73,
   "id": "307f0d8d",
   "metadata": {},
   "outputs": [
    {
     "data": {
      "text/plain": [
       "array([[0],\n",
       "       [0],\n",
       "       [0],\n",
       "       [0],\n",
       "       [0],\n",
       "       [0],\n",
       "       [0],\n",
       "       [0],\n",
       "       [0],\n",
       "       [0],\n",
       "       [1],\n",
       "       [1],\n",
       "       [0],\n",
       "       [1],\n",
       "       [0],\n",
       "       [1],\n",
       "       [1],\n",
       "       [1],\n",
       "       [1],\n",
       "       [1],\n",
       "       [0],\n",
       "       [0],\n",
       "       [1],\n",
       "       [0],\n",
       "       [1],\n",
       "       [0],\n",
       "       [0],\n",
       "       [1],\n",
       "       [0],\n",
       "       [0],\n",
       "       [1],\n",
       "       [0],\n",
       "       [0],\n",
       "       [1],\n",
       "       [1],\n",
       "       [0],\n",
       "       [1],\n",
       "       [1],\n",
       "       [1],\n",
       "       [0],\n",
       "       [0],\n",
       "       [1],\n",
       "       [1],\n",
       "       [0],\n",
       "       [1],\n",
       "       [1],\n",
       "       [1],\n",
       "       [0],\n",
       "       [0],\n",
       "       [1],\n",
       "       [0],\n",
       "       [0],\n",
       "       [0],\n",
       "       [0],\n",
       "       [0],\n",
       "       [1],\n",
       "       [0],\n",
       "       [0],\n",
       "       [0],\n",
       "       [0],\n",
       "       [1],\n",
       "       [0],\n",
       "       [1],\n",
       "       [0],\n",
       "       [0],\n",
       "       [0],\n",
       "       [0],\n",
       "       [0],\n",
       "       [0],\n",
       "       [1],\n",
       "       [1],\n",
       "       [0],\n",
       "       [1],\n",
       "       [0],\n",
       "       [1],\n",
       "       [1],\n",
       "       [0],\n",
       "       [1],\n",
       "       [1],\n",
       "       [1],\n",
       "       [1],\n",
       "       [0],\n",
       "       [1],\n",
       "       [0],\n",
       "       [0],\n",
       "       [0],\n",
       "       [0],\n",
       "       [1],\n",
       "       [1],\n",
       "       [0],\n",
       "       [0],\n",
       "       [0],\n",
       "       [1],\n",
       "       [1],\n",
       "       [0],\n",
       "       [1],\n",
       "       [1],\n",
       "       [0],\n",
       "       [0],\n",
       "       [0],\n",
       "       [1],\n",
       "       [0],\n",
       "       [0],\n",
       "       [0],\n",
       "       [1],\n",
       "       [0],\n",
       "       [0],\n",
       "       [1],\n",
       "       [1],\n",
       "       [1],\n",
       "       [1],\n",
       "       [1],\n",
       "       [0],\n",
       "       [1],\n",
       "       [1],\n",
       "       [1],\n",
       "       [0],\n",
       "       [1],\n",
       "       [1],\n",
       "       [0],\n",
       "       [1],\n",
       "       [0],\n",
       "       [1],\n",
       "       [0],\n",
       "       [1],\n",
       "       [0],\n",
       "       [1],\n",
       "       [1],\n",
       "       [0],\n",
       "       [1],\n",
       "       [1],\n",
       "       [0],\n",
       "       [0],\n",
       "       [0],\n",
       "       [0],\n",
       "       [0],\n",
       "       [1],\n",
       "       [0],\n",
       "       [0],\n",
       "       [1],\n",
       "       [0],\n",
       "       [0],\n",
       "       [1],\n",
       "       [0],\n",
       "       [1],\n",
       "       [0],\n",
       "       [1],\n",
       "       [1],\n",
       "       [1],\n",
       "       [0],\n",
       "       [1],\n",
       "       [1],\n",
       "       [1],\n",
       "       [0],\n",
       "       [1],\n",
       "       [0],\n",
       "       [1],\n",
       "       [0],\n",
       "       [0],\n",
       "       [0],\n",
       "       [1],\n",
       "       [1],\n",
       "       [1],\n",
       "       [1],\n",
       "       [1],\n",
       "       [0],\n",
       "       [1],\n",
       "       [0],\n",
       "       [0],\n",
       "       [0],\n",
       "       [0],\n",
       "       [0],\n",
       "       [0],\n",
       "       [1],\n",
       "       [0],\n",
       "       [0],\n",
       "       [1],\n",
       "       [1],\n",
       "       [0],\n",
       "       [0],\n",
       "       [0],\n",
       "       [0],\n",
       "       [1],\n",
       "       [0],\n",
       "       [1],\n",
       "       [0],\n",
       "       [1],\n",
       "       [1],\n",
       "       [0],\n",
       "       [0],\n",
       "       [1],\n",
       "       [0],\n",
       "       [0],\n",
       "       [1],\n",
       "       [1],\n",
       "       [1],\n",
       "       [1],\n",
       "       [0],\n",
       "       [0],\n",
       "       [1],\n",
       "       [1],\n",
       "       [1],\n",
       "       [0],\n",
       "       [0],\n",
       "       [1],\n",
       "       [1],\n",
       "       [1],\n",
       "       [1],\n",
       "       [0],\n",
       "       [0],\n",
       "       [1],\n",
       "       [0],\n",
       "       [0],\n",
       "       [0],\n",
       "       [0],\n",
       "       [0],\n",
       "       [1],\n",
       "       [0],\n",
       "       [1],\n",
       "       [1],\n",
       "       [1],\n",
       "       [1],\n",
       "       [1],\n",
       "       [0],\n",
       "       [1],\n",
       "       [0],\n",
       "       [0],\n",
       "       [1],\n",
       "       [1],\n",
       "       [1],\n",
       "       [1],\n",
       "       [0],\n",
       "       [1],\n",
       "       [0],\n",
       "       [1],\n",
       "       [1],\n",
       "       [1],\n",
       "       [1],\n",
       "       [0],\n",
       "       [0],\n",
       "       [0],\n",
       "       [1],\n",
       "       [0],\n",
       "       [1],\n",
       "       [1],\n",
       "       [1],\n",
       "       [0],\n",
       "       [0],\n",
       "       [0],\n",
       "       [0],\n",
       "       [0],\n",
       "       [0],\n",
       "       [1],\n",
       "       [0],\n",
       "       [0],\n",
       "       [0],\n",
       "       [0],\n",
       "       [0],\n",
       "       [1],\n",
       "       [1],\n",
       "       [0],\n",
       "       [0],\n",
       "       [0],\n",
       "       [1],\n",
       "       [1],\n",
       "       [0],\n",
       "       [1],\n",
       "       [0],\n",
       "       [1],\n",
       "       [1],\n",
       "       [1],\n",
       "       [1],\n",
       "       [0],\n",
       "       [0],\n",
       "       [0]])"
      ]
     },
     "execution_count": 73,
     "metadata": {},
     "output_type": "execute_result"
    }
   ],
   "source": [
    "import numpy as np\n",
    "predicted_class=np.where(prediction > 0.5 , 1 ,0)\n",
    "predicted_class"
   ]
  },
  {
   "cell_type": "code",
   "execution_count": 74,
   "id": "b7512357",
   "metadata": {},
   "outputs": [
    {
     "data": {
      "text/plain": [
       "['loss', 'compile_metrics']"
      ]
     },
     "execution_count": 74,
     "metadata": {},
     "output_type": "execute_result"
    }
   ],
   "source": [
    "models.metrics_names"
   ]
  },
  {
   "cell_type": "code",
   "execution_count": 75,
   "id": "28dfea2d",
   "metadata": {},
   "outputs": [
    {
     "name": "stdout",
     "output_type": "stream",
     "text": [
      "\u001b[1m9/9\u001b[0m \u001b[32m━━━━━━━━━━━━━━━━━━━━\u001b[0m\u001b[37m\u001b[0m \u001b[1m0s\u001b[0m 3ms/step - accuracy: 0.9858 - loss: 0.0451 \n"
     ]
    },
    {
     "data": {
      "text/plain": [
       "[0.04814856871962547, 0.9781818389892578]"
      ]
     },
     "execution_count": 75,
     "metadata": {},
     "output_type": "execute_result"
    }
   ],
   "source": [
    "models.evaluate (x=scaled_X_test, y=y_test)"
   ]
  },
  {
   "cell_type": "code",
   "execution_count": 76,
   "id": "f1f74f27",
   "metadata": {},
   "outputs": [],
   "source": [
    "from sklearn.metrics import classification_report, confusion_matrix"
   ]
  },
  {
   "cell_type": "code",
   "execution_count": 77,
   "id": "4b81ec3a",
   "metadata": {},
   "outputs": [
    {
     "data": {
      "text/plain": [
       "array([[144,   4],\n",
       "       [  2, 125]], dtype=int64)"
      ]
     },
     "execution_count": 77,
     "metadata": {},
     "output_type": "execute_result"
    }
   ],
   "source": [
    "confusion_matrix(y_test, predicted_class)"
   ]
  },
  {
   "cell_type": "code",
   "execution_count": 78,
   "id": "5a1e8ce6",
   "metadata": {},
   "outputs": [
    {
     "name": "stdout",
     "output_type": "stream",
     "text": [
      "              precision    recall  f1-score   support\n",
      "\n",
      "         0.0       0.99      0.97      0.98       148\n",
      "         1.0       0.97      0.98      0.98       127\n",
      "\n",
      "    accuracy                           0.98       275\n",
      "   macro avg       0.98      0.98      0.98       275\n",
      "weighted avg       0.98      0.98      0.98       275\n",
      "\n"
     ]
    }
   ],
   "source": [
    "print(classification_report(y_test, predicted_class))"
   ]
  }
 ],
 "metadata": {
  "kernelspec": {
   "display_name": "Python 3 (ipykernel)",
   "language": "python",
   "name": "python3"
  },
  "language_info": {
   "codemirror_mode": {
    "name": "ipython",
    "version": 3
   },
   "file_extension": ".py",
   "mimetype": "text/x-python",
   "name": "python",
   "nbconvert_exporter": "python",
   "pygments_lexer": "ipython3",
   "version": "3.9.13"
  }
 },
 "nbformat": 4,
 "nbformat_minor": 5
}
